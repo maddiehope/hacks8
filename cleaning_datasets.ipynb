{
 "cells": [
  {
   "cell_type": "markdown",
   "metadata": {},
   "source": [
    "# Cleaning the Dataframes Per Each Chain\n",
    "\n",
    "test notebook\n",
    "\n",
    "*delete before submission*"
   ]
  },
  {
   "cell_type": "code",
   "execution_count": 243,
   "metadata": {},
   "outputs": [],
   "source": [
    "import pandas as pd\n",
    "import numpy as np\n",
    "from pricefinder import *"
   ]
  },
  {
   "cell_type": "code",
   "execution_count": 244,
   "metadata": {},
   "outputs": [
    {
     "ename": "TypeError",
     "evalue": "can only concatenate str (not \"list\") to str",
     "output_type": "error",
     "traceback": [
      "\u001b[0;31m---------------------------------------------------------------------------\u001b[0m",
      "\u001b[0;31mTypeError\u001b[0m                                 Traceback (most recent call last)",
      "Cell \u001b[0;32mIn[244], line 3\u001b[0m\n\u001b[1;32m      1\u001b[0m test \u001b[38;5;241m=\u001b[39m PriceFinder()\n\u001b[0;32m----> 3\u001b[0m \u001b[38;5;28;43mprint\u001b[39;49m\u001b[43m(\u001b[49m\u001b[43mtest\u001b[49m\u001b[43m)\u001b[49m\n",
      "File \u001b[0;32m~/hacks8/pricefinder.py:49\u001b[0m, in \u001b[0;36mPriceFinder.__str__\u001b[0;34m(self)\u001b[0m\n\u001b[1;32m     48\u001b[0m \u001b[39mdef\u001b[39;00m \u001b[39m__str__\u001b[39m(\u001b[39mself\u001b[39m):\n\u001b[0;32m---> 49\u001b[0m     \u001b[39mreturn\u001b[39;00m \u001b[39m\"\u001b[39;49m\u001b[39mThe fast-food chains included in this class: \u001b[39;49m\u001b[39m\"\u001b[39;49m \u001b[39m+\u001b[39;49m \u001b[39mself\u001b[39;49m\u001b[39m.\u001b[39;49mchain_collection\n",
      "\u001b[0;31mTypeError\u001b[0m: can only concatenate str (not \"list\") to str"
     ]
    }
   ],
   "source": [
    "\n",
    "test = PriceFinder()\n",
    "\n",
    "print(test)"
   ]
  },
  {
   "cell_type": "code",
   "execution_count": null,
   "metadata": {},
   "outputs": [
    {
     "name": "stdout",
     "output_type": "stream",
     "text": [
      "['arbys', 'bk', 'bojangles', 'canes', 'cfa', 'deltaco', 'dominos', 'fiveguys', 'kfc', 'littlecaesars', 'mcdonalds', 'papajohns', 'pizzahut', 'popeyes', 'sonic', 'steaknshake', 'tacobell', 'wendys', 'zaxbys']\n"
     ]
    }
   ],
   "source": [
    "# reading all sets into pandas DataFrames\n",
    "arbys = pd.read_csv(\"datasets/arbys.csv\")\n",
    "bk = pd.read_csv(\"datasets/bk.csv\")\n",
    "bojangles = pd.read_csv(\"datasets/bojangles.csv\")\n",
    "canes = pd.read_csv(\"datasets/canes.csv\")\n",
    "cfa = pd.read_csv(\"datasets/cfa.csv\")\n",
    "deltaco = pd.read_csv(\"datasets/deltaco.csv\")\n",
    "dominos = pd.read_csv(\"datasets/dominos.csv\")\n",
    "fiveguys = pd.read_csv(\"datasets/fiveguys.csv\")\n",
    "kfc = pd.read_csv(\"datasets/kfc.csv\")\n",
    "littlecaesars = pd.read_csv(\"datasets/littlecaesars.csv\")\n",
    "mcdonalds = pd.read_csv(\"datasets/mcdonalds.csv\")\n",
    "papajohns = pd.read_csv(\"datasets/papajohns.csv\")\n",
    "pizzahut = pd.read_csv(\"datasets/pizzahut.csv\")\n",
    "popeyes = pd.read_csv(\"datasets/popeyes.csv\")\n",
    "sonic = pd.read_csv(\"datasets/sonic.csv\")\n",
    "steaknshake = pd.read_csv(\"datasets/steaknshake.csv\")\n",
    "tacobell = pd.read_csv(\"datasets/tacobell.csv\")\n",
    "wendys = pd.read_csv(\"datasets/wendys.csv\")\n",
    "zaxbys = pd.read_csv(\"datasets/zaxbys.csv\")\n",
    "\n",
    "# creating an iterable list of all the dataframes\n",
    "chain_collection = [arbys, bk, bojangles, canes, cfa, deltaco, dominos, fiveguys, kfc, littlecaesars, mcdonalds, papajohns, pizzahut, popeyes, sonic, steaknshake,\n",
    "                    tacobell, wendys, zaxbys ]\n",
    "\n",
    "\n",
    "chain_collection_list= [\"arbys\", \"bk\", \"bojangles\", \"canes\", \"cfa\", \"deltaco\", \"dominos\", \"fiveguys\", \"kfc\", \"littlecaesars\", \"mcdonalds\", \"papajohns\", \"pizzahut\", \"popeyes\",\n",
    "                             \"sonic\", \"steaknshake\", \"tacobell\", \"wendys\", \"zaxbys\"]\n",
    "\n",
    "print(str(chain_collection_list))"
   ]
  },
  {
   "cell_type": "code",
   "execution_count": null,
   "metadata": {},
   "outputs": [
    {
     "name": "stdout",
     "output_type": "stream",
     "text": [
      "          Type                                 Food       Size  Price\n",
      "0        Meals         Chick-fil-A Chicken Sandwich        NaN   3.17\n",
      "2        Meals  Chick-fil-A Chicken Deluxe Sandwich        NaN   3.80\n",
      "4        Meals               Spicy Chicken Sandwich        NaN   3.42\n",
      "6        Meals        Spicy Chicken Deluxe Sandwich        NaN   4.05\n",
      "8        Meals                  Chick-fil-A Nuggets      8 Pc.   3.17\n",
      "..         ...                                  ...        ...    ...\n",
      "121  Beverages                               Coffee      Small   1.72\n",
      "122  Beverages                               Coffee     Medium   2.03\n",
      "123  Beverages                               Coffee      Large   2.24\n",
      "124  Beverages                               Coffee  To-Go Box  13.26\n",
      "125  Beverages           1% Milk Plain or Chocolate        NaN   1.24\n",
      "\n",
      "[102 rows x 4 columns]\n"
     ]
    },
    {
     "data": {
      "text/plain": [
       "<bound method DataFrame.info of           Type                                 Food       Size  Price\n",
       "0        Meals         Chick-fil-A Chicken Sandwich        NaN   3.17\n",
       "2        Meals  Chick-fil-A Chicken Deluxe Sandwich        NaN   3.80\n",
       "4        Meals               Spicy Chicken Sandwich        NaN   3.42\n",
       "6        Meals        Spicy Chicken Deluxe Sandwich        NaN   4.05\n",
       "8        Meals                  Chick-fil-A Nuggets      8 Pc.   3.17\n",
       "..         ...                                  ...        ...    ...\n",
       "121  Beverages                               Coffee      Small   1.72\n",
       "122  Beverages                               Coffee     Medium   2.03\n",
       "123  Beverages                               Coffee      Large   2.24\n",
       "124  Beverages                               Coffee  To-Go Box  13.26\n",
       "125  Beverages           1% Milk Plain or Chocolate        NaN   1.24\n",
       "\n",
       "[102 rows x 4 columns]>"
      ]
     },
     "execution_count": 218,
     "metadata": {},
     "output_type": "execute_result"
    }
   ],
   "source": [
    "chain = 'cfa'\n",
    "\n",
    "for i, item in enumerate(chain_collection_list):\n",
    "    if item == chain:\n",
    "        index = i\n",
    "        break\n",
    "\n",
    "df = chain_collection[index]\n",
    "df = df[~df['Food'].str.contains('combo', case=False, na=False)]\n",
    "df = df[~df['Food'].str.contains('meal', case=False, na=False)]\n",
    "print(df)\n",
    "df.info"
   ]
  },
  {
   "cell_type": "code",
   "execution_count": null,
   "metadata": {},
   "outputs": [
    {
     "name": "stdout",
     "output_type": "stream",
     "text": [
      "[           Type                                     Food    Size  Price\n",
      "8         Meals                      Chick-fil-A Nuggets   8 Pc.   3.17\n",
      "9         Meals                      Chick-fil-A Nuggets  12 Pc.   4.63\n",
      "12        Meals            Chick-fil-A Nuggets (Grilled)   8 Pc.   4.00\n",
      "13        Meals            Chick-fil-A Nuggets (Grilled)  12 Pc.   5.98\n",
      "50  Kid’s Meals                                  Nuggets   4 Pc.   3.48\n",
      "51  Kid’s Meals                                  Nuggets   6 Pc.   4.21\n",
      "52  Kid’s Meals                          Grilled Nuggets   4 Pc.   3.90\n",
      "53  Kid’s Meals                          Grilled Nuggets   6 Pc.   4.84\n",
      "64       Salads  Grilled Market Salad w/ Grilled Nuggets     NaN   8.52\n",
      "65       Salads          Grilled Market Salad w/ Nuggets     NaN   8.52,              Type                  Food    Size  Price\n",
      "31          Meals  Upsize Fries & Drink     NaN   0.48\n",
      "32  Classic Sides   Waffle Potato Fries   Small   1.61\n",
      "33  Classic Sides   Waffle Potato Fries  Medium   1.72\n",
      "34  Classic Sides   Waffle Potato Fries   Large   1.92,           Type         Food    Size  Price\n",
      "111  Beverages  Soft Drinks   Small   1.40\n",
      "112  Beverages  Soft Drinks  Medium   1.65\n",
      "113  Beverages  Soft Drinks   Large   1.92]\n"
     ]
    }
   ],
   "source": [
    "foods = [ 'nugget', 'burger', 'chicken sandwhich', 'chicken sandwich', 'fries', 'salads', 'pizza', 'tacos', 'tacos', 'burritos', 'nachos', 'breadsticks' ]\n",
    "drinks = [ 'soft drink', 'bottled water', 'lemonade', 'sweet tea' ]\n",
    "desserts = [ 'milkshakes', 'cookies']\n",
    "\n",
    "\n",
    "# options list to be provided in app.py, taken from frop down menus on the web page\n",
    "options = [foods[0], foods[4], drinks[0]]\n",
    "\n",
    "for i, item in enumerate(options):\n",
    "\n",
    "    # using a mask to filter through the dataframe to choose only what the user picked\n",
    "    mask = df['Food'].str.contains(item, case=False, na=False) # filtering out desired food type using a mask\n",
    "    options[i] = df[mask] # replacing item name in the list with the filtered df \n",
    "\n",
    "\n",
    "print(options)"
   ]
  },
  {
   "cell_type": "code",
   "execution_count": null,
   "metadata": {},
   "outputs": [],
   "source": [
    "#desired = variable # the variable is going to be taken from the web form\n",
    "\n",
    "#mask = data['Food'].str.contains(desired, case=False, na=False) # filtering out desired food type using a mask\n",
    "#choice = data[mask].iloc[:-2] "
   ]
  },
  {
   "cell_type": "code",
   "execution_count": null,
   "metadata": {},
   "outputs": [],
   "source": [
    "# Regex \n",
    "\n",
    "### Foods\n",
    "\n",
    "# nugget\n",
    "# burger\n",
    "# chicken sandwhich \n",
    "# fries\n",
    "#### small\n",
    "#### medium\n",
    "#### large\n",
    "# salads\n",
    "# pizza \n",
    "#### small\n",
    "#### medium\n",
    "#### large\n",
    "# tacos \n",
    "# burritos \n",
    "# nachos \n",
    "# breadsticks \n",
    "\n",
    "\n",
    "### Beverages \n",
    "\n",
    "# soft drink\n",
    "#### small\n",
    "#### medium\n",
    "#### large\n",
    "# bottled water \n",
    "# sweet tea\n",
    "# lemonade \n",
    "\n",
    "### Desserts \n",
    "\n",
    "# milkshakes \n",
    "#### small\n",
    "#### medium\n",
    "#### large\n",
    "# cookie \n"
   ]
  }
 ],
 "metadata": {
  "kernelspec": {
   "display_name": "base",
   "language": "python",
   "name": "base"
  },
  "language_info": {
   "codemirror_mode": {
    "name": "ipython",
    "version": 3
   },
   "file_extension": ".py",
   "mimetype": "text/x-python",
   "name": "python",
   "nbconvert_exporter": "python",
   "pygments_lexer": "ipython3",
   "version": "3.9.12"
  },
  "orig_nbformat": 4,
  "vscode": {
   "interpreter": {
    "hash": "31f2aee4e71d21fbe5cf8b01ff0e069b9275f58929596ceb00d14d90e3e16cd6"
   }
  }
 },
 "nbformat": 4,
 "nbformat_minor": 2
}
