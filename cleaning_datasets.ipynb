{
 "cells": [
  {
   "cell_type": "markdown",
   "metadata": {},
   "source": [
    "# Cleaning the Dataframes Per Each Chain\n",
    "\n",
    "test notebook\n",
    "\n",
    "*delete before submission*"
   ]
  },
  {
   "cell_type": "code",
   "execution_count": 78,
   "metadata": {},
   "outputs": [],
   "source": [
    "import pandas as pd\n",
    "import numpy as np"
   ]
  },
  {
   "cell_type": "code",
   "execution_count": null,
   "metadata": {},
   "outputs": [],
   "source": [
    "# reading all sets into pandas DataFrames\n",
    "arbys = pd.read_csv(\"arbys.csv\")\n",
    "bk = pd.read_csv(\"bk.csv\")\n",
    "bojangles = pd.read_csv(\"bojangles.csv\")\n",
    "canes = pd.read_csv(\"canes.csv\")\n",
    "cfa = pd.read_csv(\"cfa.csv\")\n",
    "deltaco = pd.read_csv(\"deltaco.csv\")\n",
    "dominos = pd.read_csv(\"dominos.csv\")\n",
    "fiveguys = pd.read_csv(\"fiveguys.csv\")\n",
    "kfc = pd.read_csv(\"kfc.csv\")\n",
    "littlecaesars = pd.read_csv(\"littlecaesars.csv\")\n",
    "mcdonalds = pd.read_csv(\"mcdonalds.csv\")\n",
    "papajohns = pd.read_csv(\"papajohns.csv\")\n",
    "pizzahut = pd.read_csv(\"pizzahut.csv\")\n",
    "popeyes = pd.read_csv(\"popeyes.csv\")\n",
    "sonic = pd.read_csv(\"sonic.csv\")\n",
    "steaknshake = pd.read_csv(\"steaknshake.csv\")\n",
    "tacobell = pd.read_csv(\"tacobell.csv\")\n",
    "wendys = pd.read_csv(\"wendys.csv\")\n",
    "zaxbys = pd.read_csv(\"zaxbys.csv\")\n",
    "\n",
    "# creating an iterable list of all the dataframes\n",
    "chain_collection = [arbys, bk, bojangles, canes, cfa, deltaco, dominos, fiveguys, kfc, littlecaesars, mcdonalds, papajohns, pizzahut, popeyes, sonic, steaknshake,\n",
    "                    tacobell, wendys, zaxbys ]"
   ]
  },
  {
   "cell_type": "code",
   "execution_count": 80,
   "metadata": {},
   "outputs": [],
   "source": [
    "#desired = variable # the variable is going to be taken from the web form\n",
    "\n",
    "#mask = data['Food'].str.contains(desired, case=False, na=False) # filtering out desired food type using a mask\n",
    "#choice = data[mask].iloc[:-2] "
   ]
  },
  {
   "cell_type": "code",
   "execution_count": 81,
   "metadata": {},
   "outputs": [],
   "source": [
    "# Regex \n",
    "\n",
    "### Foods\n",
    "\n",
    "# nugget\n",
    "# burger\n",
    "# chicken sandwhich \n",
    "# fries\n",
    "#### small\n",
    "#### medium\n",
    "#### large\n",
    "# salads\n",
    "# pizza \n",
    "#### small\n",
    "#### medium\n",
    "#### large\n",
    "# tacos \n",
    "# burritos \n",
    "# nachos \n",
    "# breadsticks \n",
    "\n",
    "\n",
    "### Beverages \n",
    "\n",
    "# soft drink\n",
    "#### small\n",
    "#### medium\n",
    "#### large\n",
    "# bottled water \n",
    "\n",
    "### Desserts \n",
    "\n",
    "# milkshakes \n",
    "#### small\n",
    "#### medium\n",
    "#### large\n",
    "# cookie \n"
   ]
  }
 ],
 "metadata": {
  "kernelspec": {
   "display_name": "base",
   "language": "python",
   "name": "base"
  },
  "language_info": {
   "codemirror_mode": {
    "name": "ipython",
    "version": 3
   },
   "file_extension": ".py",
   "mimetype": "text/x-python",
   "name": "python",
   "nbconvert_exporter": "python",
   "pygments_lexer": "ipython3",
   "version": "3.9.12"
  },
  "orig_nbformat": 4,
  "vscode": {
   "interpreter": {
    "hash": "31f2aee4e71d21fbe5cf8b01ff0e069b9275f58929596ceb00d14d90e3e16cd6"
   }
  }
 },
 "nbformat": 4,
 "nbformat_minor": 2
}
