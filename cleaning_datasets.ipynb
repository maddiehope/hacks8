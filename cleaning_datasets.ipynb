{
 "cells": [
  {
   "cell_type": "markdown",
   "metadata": {},
   "source": [
    "# Cleaning the Dataframes Per Each Chain"
   ]
  },
  {
   "cell_type": "code",
   "execution_count": 45,
   "metadata": {},
   "outputs": [],
   "source": [
    "import pandas as pd\n",
    "import numpy as np\n",
    "import re as re"
   ]
  },
  {
   "cell_type": "code",
   "execution_count": 46,
   "metadata": {},
   "outputs": [
    {
     "name": "stdout",
     "output_type": "stream",
     "text": [
      "<class 'pandas.core.frame.DataFrame'>\n",
      "RangeIndex: 126 entries, 0 to 125\n",
      "Data columns (total 4 columns):\n",
      " #   Column  Non-Null Count  Dtype  \n",
      "---  ------  --------------  -----  \n",
      " 0   Type    126 non-null    object \n",
      " 1   Food    126 non-null    object \n",
      " 2   Size    66 non-null     object \n",
      " 3   Price   126 non-null    float64\n",
      "dtypes: float64(1), object(3)\n",
      "memory usage: 4.1+ KB\n"
     ]
    }
   ],
   "source": [
    "# reading set into pandas DataFrame\n",
    "data = pd.read_csv(\"cfa.csv\")\n",
    "\n",
    "# printing summary of info about \"covid_data\"\n",
    "data.info()"
   ]
  },
  {
   "cell_type": "code",
   "execution_count": 54,
   "metadata": {},
   "outputs": [
    {
     "name": "stderr",
     "output_type": "stream",
     "text": [
      "/var/folders/yw/b06fbzn94_79hkm73_3v_yvm0000gn/T/ipykernel_70540/967363873.py:6: SettingWithCopyWarning: \n",
      "A value is trying to be set on a copy of a slice from a DataFrame\n",
      "\n",
      "See the caveats in the documentation: https://pandas.pydata.org/pandas-docs/stable/user_guide/indexing.html#returning-a-view-versus-a-copy\n",
      "  nuggets.drop(nuggets.tail(2).index,inplace = True)\n"
     ]
    },
    {
     "data": {
      "text/html": [
       "<div>\n",
       "<style scoped>\n",
       "    .dataframe tbody tr th:only-of-type {\n",
       "        vertical-align: middle;\n",
       "    }\n",
       "\n",
       "    .dataframe tbody tr th {\n",
       "        vertical-align: top;\n",
       "    }\n",
       "\n",
       "    .dataframe thead th {\n",
       "        text-align: right;\n",
       "    }\n",
       "</style>\n",
       "<table border=\"1\" class=\"dataframe\">\n",
       "  <thead>\n",
       "    <tr style=\"text-align: right;\">\n",
       "      <th></th>\n",
       "      <th>Type</th>\n",
       "      <th>Food</th>\n",
       "      <th>Size</th>\n",
       "      <th>Price</th>\n",
       "    </tr>\n",
       "  </thead>\n",
       "  <tbody>\n",
       "    <tr>\n",
       "      <th>8</th>\n",
       "      <td>Meals</td>\n",
       "      <td>Chick-fil-A Nuggets</td>\n",
       "      <td>8 Pc.</td>\n",
       "      <td>3.90</td>\n",
       "    </tr>\n",
       "    <tr>\n",
       "      <th>9</th>\n",
       "      <td>Meals</td>\n",
       "      <td>Chick-fil-A Nuggets</td>\n",
       "      <td>12 Pc.</td>\n",
       "      <td>5.70</td>\n",
       "    </tr>\n",
       "    <tr>\n",
       "      <th>10</th>\n",
       "      <td>Meals</td>\n",
       "      <td>Chick-fil-A Nuggets – Combo</td>\n",
       "      <td>8 Pc.</td>\n",
       "      <td>7.62</td>\n",
       "    </tr>\n",
       "    <tr>\n",
       "      <th>11</th>\n",
       "      <td>Meals</td>\n",
       "      <td>Chick-fil-A Nuggets – Combo</td>\n",
       "      <td>12 Pc.</td>\n",
       "      <td>11.00</td>\n",
       "    </tr>\n",
       "    <tr>\n",
       "      <th>12</th>\n",
       "      <td>Meals</td>\n",
       "      <td>Chick-fil-A Nuggets (Grilled)</td>\n",
       "      <td>8 Pc.</td>\n",
       "      <td>4.93</td>\n",
       "    </tr>\n",
       "    <tr>\n",
       "      <th>13</th>\n",
       "      <td>Meals</td>\n",
       "      <td>Chick-fil-A Nuggets (Grilled)</td>\n",
       "      <td>12 Pc.</td>\n",
       "      <td>7.36</td>\n",
       "    </tr>\n",
       "    <tr>\n",
       "      <th>14</th>\n",
       "      <td>Meals</td>\n",
       "      <td>Chick-fil-A Nuggets (Grilled) – Combo</td>\n",
       "      <td>8 Pc.</td>\n",
       "      <td>8.64</td>\n",
       "    </tr>\n",
       "    <tr>\n",
       "      <th>15</th>\n",
       "      <td>Meals</td>\n",
       "      <td>Chick-fil-A Nuggets (Grilled) – Combo</td>\n",
       "      <td>12 Pc.</td>\n",
       "      <td>11.00</td>\n",
       "    </tr>\n",
       "    <tr>\n",
       "      <th>50</th>\n",
       "      <td>Kid’s Meals</td>\n",
       "      <td>Nuggets</td>\n",
       "      <td>4 Pc.</td>\n",
       "      <td>4.29</td>\n",
       "    </tr>\n",
       "    <tr>\n",
       "      <th>51</th>\n",
       "      <td>Kid’s Meals</td>\n",
       "      <td>Nuggets</td>\n",
       "      <td>6 Pc.</td>\n",
       "      <td>5.18</td>\n",
       "    </tr>\n",
       "    <tr>\n",
       "      <th>52</th>\n",
       "      <td>Kid’s Meals</td>\n",
       "      <td>Grilled Nuggets</td>\n",
       "      <td>4 Pc.</td>\n",
       "      <td>4.80</td>\n",
       "    </tr>\n",
       "    <tr>\n",
       "      <th>53</th>\n",
       "      <td>Kid’s Meals</td>\n",
       "      <td>Grilled Nuggets</td>\n",
       "      <td>6 Pc.</td>\n",
       "      <td>5.95</td>\n",
       "    </tr>\n",
       "  </tbody>\n",
       "</table>\n",
       "</div>"
      ],
      "text/plain": [
       "           Type                                   Food    Size  Price\n",
       "8         Meals                    Chick-fil-A Nuggets   8 Pc.   3.90\n",
       "9         Meals                    Chick-fil-A Nuggets  12 Pc.   5.70\n",
       "10        Meals            Chick-fil-A Nuggets – Combo   8 Pc.   7.62\n",
       "11        Meals            Chick-fil-A Nuggets – Combo  12 Pc.  11.00\n",
       "12        Meals          Chick-fil-A Nuggets (Grilled)   8 Pc.   4.93\n",
       "13        Meals          Chick-fil-A Nuggets (Grilled)  12 Pc.   7.36\n",
       "14        Meals  Chick-fil-A Nuggets (Grilled) – Combo   8 Pc.   8.64\n",
       "15        Meals  Chick-fil-A Nuggets (Grilled) – Combo  12 Pc.  11.00\n",
       "50  Kid’s Meals                                Nuggets   4 Pc.   4.29\n",
       "51  Kid’s Meals                                Nuggets   6 Pc.   5.18\n",
       "52  Kid’s Meals                        Grilled Nuggets   4 Pc.   4.80\n",
       "53  Kid’s Meals                        Grilled Nuggets   6 Pc.   5.95"
      ]
     },
     "execution_count": 54,
     "metadata": {},
     "output_type": "execute_result"
    }
   ],
   "source": [
    "#nuggets = data[data[\"Food\"].str.contains(r'^.*(\\bnugget\\b)?.*$')]\n",
    "#result = data['Food'].str.contains(r'^.*(\\bnugget\\b)?.*$')\n",
    "\n",
    "nuggets_mask = data['Food'].str.contains('nugget', case=False, na=False)\n",
    "nuggets = data[nuggets_mask]\n",
    "nuggets.drop(nuggets.tail(2).index,inplace = True)\n",
    "\n",
    "nuggets\n"
   ]
  },
  {
   "cell_type": "code",
   "execution_count": 48,
   "metadata": {},
   "outputs": [],
   "source": [
    "# Regex \n",
    "\n",
    "# Foods\n",
    "\n",
    "# nugget: ^.*(\\bnugget\\b)?.*$\n",
    "# burger: ^.*(\\bburger\\b)?.*$\n",
    "# fries: ^.*(\\bfries\\b)?.*$\n",
    "# salads: ^.*(\\bsalad\\b)?.*$\n",
    "# biscuit: ^.*(\\bbiscuit\\b)?.*$\n",
    "\n",
    "# Beverages \n",
    "\n",
    "# soft drink: ^.*(\\bsoft drink\\b)?.*$\n",
    "# coffee: ^.*(\\bcoffee\\b)?.*$\n",
    "\n",
    "# Desserts \n",
    "\n",
    "# ice cream/etc: ^.*(\\bice\\b)?.*$\n"
   ]
  }
 ],
 "metadata": {
  "kernelspec": {
   "display_name": "base",
   "language": "python",
   "name": "base"
  },
  "language_info": {
   "codemirror_mode": {
    "name": "ipython",
    "version": 3
   },
   "file_extension": ".py",
   "mimetype": "text/x-python",
   "name": "python",
   "nbconvert_exporter": "python",
   "pygments_lexer": "ipython3",
   "version": "3.9.12"
  },
  "orig_nbformat": 4,
  "vscode": {
   "interpreter": {
    "hash": "31f2aee4e71d21fbe5cf8b01ff0e069b9275f58929596ceb00d14d90e3e16cd6"
   }
  }
 },
 "nbformat": 4,
 "nbformat_minor": 2
}
