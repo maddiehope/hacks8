{
 "cells": [
  {
   "cell_type": "markdown",
   "metadata": {},
   "source": [
    "# Cleaning the Dataframes Per Each Chain"
   ]
  },
  {
   "cell_type": "code",
   "execution_count": 3,
   "metadata": {},
   "outputs": [],
   "source": [
    "import pandas as pd\n",
    "import numpy as np"
   ]
  },
  {
   "cell_type": "code",
   "execution_count": 4,
   "metadata": {},
   "outputs": [
    {
     "name": "stdout",
     "output_type": "stream",
     "text": [
      "<class 'pandas.core.frame.DataFrame'>\n",
      "RangeIndex: 126 entries, 0 to 125\n",
      "Data columns (total 4 columns):\n",
      " #   Column  Non-Null Count  Dtype  \n",
      "---  ------  --------------  -----  \n",
      " 0   Type    126 non-null    object \n",
      " 1   Food    126 non-null    object \n",
      " 2   Size    66 non-null     object \n",
      " 3   Price   126 non-null    float64\n",
      "dtypes: float64(1), object(3)\n",
      "memory usage: 4.1+ KB\n"
     ]
    }
   ],
   "source": [
    "# reading set into pandas DataFrame\n",
    "data = pd.read_csv(\"cfa.csv\")\n",
    "\n",
    "# printing summary of info about \"covid_data\"\n",
    "data.info()"
   ]
  },
  {
   "cell_type": "code",
   "execution_count": null,
   "metadata": {},
   "outputs": [],
   "source": [
    "# Regex \n",
    "\n",
    "# Foods\n",
    "\n",
    "# nugget: ^.*(\\bnugget\\b)?.*$\n",
    "# burger: ^.*(\\bburger\\b)?.*$\n",
    "# fries: ^.*(\\bfries\\b)?.*$\n",
    "# salads: ^.*(\\bsalad\\b)?.*$\n",
    "# biscuit: ^.*(\\bbiscuit\\b)?.*$\n",
    "\n",
    "# Beverages \n",
    "\n",
    "# soft drink: ^.*(\\bsoft drink\\b)?.*$\n",
    "# coffee: ^.*(\\bcoffee\\b)?.*$\n",
    "\n",
    "# Desserts \n",
    "\n",
    "# ice cream/etc: ^.*(\\bice\\b)?.*$\n"
   ]
  }
 ],
 "metadata": {
  "kernelspec": {
   "display_name": "base",
   "language": "python",
   "name": "base"
  },
  "language_info": {
   "codemirror_mode": {
    "name": "ipython",
    "version": 3
   },
   "file_extension": ".py",
   "mimetype": "text/x-python",
   "name": "python",
   "nbconvert_exporter": "python",
   "pygments_lexer": "ipython3",
   "version": "3.9.12"
  },
  "orig_nbformat": 4,
  "vscode": {
   "interpreter": {
    "hash": "31f2aee4e71d21fbe5cf8b01ff0e069b9275f58929596ceb00d14d90e3e16cd6"
   }
  }
 },
 "nbformat": 4,
 "nbformat_minor": 2
}
