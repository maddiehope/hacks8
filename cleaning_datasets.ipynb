{
 "cells": [
  {
   "cell_type": "markdown",
   "metadata": {},
   "source": [
    "# Cleaning the Dataframes Per Each Chain\n",
    "\n",
    "test notebook\n",
    "\n",
    "*delete before submission*"
   ]
  },
  {
   "cell_type": "code",
   "execution_count": 355,
   "metadata": {},
   "outputs": [],
   "source": [
    "import pandas as pd\n",
    "import numpy as np\n",
    "\n",
    "from pricefinder import *"
   ]
  },
  {
   "cell_type": "code",
   "execution_count": 356,
   "metadata": {},
   "outputs": [
    {
     "name": "stdout",
     "output_type": "stream",
     "text": [
      "The fast food chains used in this class are: arbys, bk, bojangles, canes, cfa, deltaco, dominos, fiveguys, kfc, littlecaesars, mcdonalds, papajohns, pizzahut, popeyes, sonic, steaknshake, tacobell, wendys, zaxbys\n"
     ]
    }
   ],
   "source": [
    "test = PriceFinder()\n",
    "\n",
    "print(test)"
   ]
  },
  {
   "cell_type": "code",
   "execution_count": 357,
   "metadata": {},
   "outputs": [
    {
     "name": "stdout",
     "output_type": "stream",
     "text": [
      "[      Type                                     Food Size  Price\n",
      "64  Salads  Grilled Market Salad w/ Grilled Nuggets  NaN   8.52\n",
      "65  Salads          Grilled Market Salad w/ Nuggets  NaN   8.52, Empty DataFrame\n",
      "Columns: [Type, Food, Size, Price]\n",
      "Index: [],           Type         Food    Size  Price\n",
      "111  Beverages  Soft Drinks   Small   1.40\n",
      "112  Beverages  Soft Drinks  Medium   1.65\n",
      "113  Beverages  Soft Drinks   Large   1.92]\n"
     ]
    }
   ],
   "source": [
    "cfa = test.one_chain('cfa', options = [test.foods[0], test.foods[4],test.drinks[0]])\n",
    "\n",
    "print(cfa)"
   ]
  },
  {
   "cell_type": "code",
   "execution_count": 358,
   "metadata": {},
   "outputs": [],
   "source": [
    "# TESTING CLASS FUNCTIONS \n",
    "\n",
    "# reading all sets into pandas DataFrames\n",
    "arbys = pd.read_csv(\"datasets/arbys.csv\")\n",
    "bk = pd.read_csv(\"datasets/bk.csv\")\n",
    "bojangles = pd.read_csv(\"datasets/bojangles.csv\")\n",
    "canes = pd.read_csv(\"datasets/canes.csv\")\n",
    "cfa = pd.read_csv(\"datasets/cfa.csv\")\n",
    "deltaco = pd.read_csv(\"datasets/deltaco.csv\")\n",
    "dominos = pd.read_csv(\"datasets/dominos.csv\")\n",
    "fiveguys = pd.read_csv(\"datasets/fiveguys.csv\")\n",
    "kfc = pd.read_csv(\"datasets/kfc.csv\")\n",
    "littlecaesars = pd.read_csv(\"datasets/littlecaesars.csv\")\n",
    "mcdonalds = pd.read_csv(\"datasets/mcdonalds.csv\")\n",
    "papajohns = pd.read_csv(\"datasets/papajohns.csv\")\n",
    "pizzahut = pd.read_csv(\"datasets/pizzahut.csv\")\n",
    "popeyes = pd.read_csv(\"datasets/popeyes.csv\")\n",
    "sonic = pd.read_csv(\"datasets/sonic.csv\")\n",
    "steaknshake = pd.read_csv(\"datasets/steaknshake.csv\")\n",
    "tacobell = pd.read_csv(\"datasets/tacobell.csv\")\n",
    "wendys = pd.read_csv(\"datasets/wendys.csv\")\n",
    "zaxbys = pd.read_csv(\"datasets/zaxbys.csv\")\n",
    "\n",
    "        # creating an iterable list of all the dataframes\n",
    "chain_collection = [arbys, bk, bojangles, canes, cfa, deltaco, dominos, fiveguys, kfc, littlecaesars, mcdonalds, papajohns, pizzahut, popeyes, sonic, steaknshake, tacobell, wendys, zaxbys ]\n",
    "\n",
    "chain_collection_list= [\"arbys\", \"bk\", \"bojangles\", \"canes\", \"cfa\", \"deltaco\", \"dominos\", \"fiveguys\", \"kfc\", \"littlecaesars\", \"mcdonalds\", \"papajohns\", \"pizzahut\", \"popeyes\", \"sonic\", \"steaknshake\", \"tacobell\", \"wendys\", \"zaxbys\"]\n",
    "\n",
    "foods = [ 'nugget','finger', 'burger', 'chicken sandwhich', 'chicken sandwich', 'fries', 'salads', 'pizza', 'tacos', 'tacos', 'burritos', 'nachos', 'breadsticks' ]\n",
    "drinks = [ 'drink', 'bottled water', 'lemonade', 'sweet tea' ]\n",
    "desserts = [ 'milkshakes', 'cookies']"
   ]
  },
  {
   "cell_type": "code",
   "execution_count": 359,
   "metadata": {},
   "outputs": [
    {
     "name": "stdout",
     "output_type": "stream",
     "text": [
      "{'arbys': {'arbys1': Type     $1 Each 2-5 PMLimited Time\n",
      "Food          Fries, Shake or Drink\n",
      "Size                          Small\n",
      "Price                          1.04\n",
      "Name: 65, dtype: object}, 'bk': {'bk0': Type          Value Menu\n",
      "Food     Chicken Nuggets\n",
      "Size               4 Pc.\n",
      "Price               1.24\n",
      "Name: 30, dtype: object, 'bk1': Type         Value Menu\n",
      "Food     Fountain Drink\n",
      "Size             16 oz.\n",
      "Price              1.34\n",
      "Name: 22, dtype: object}, 'bojangles': {'bojangles1': Type      Beverages\n",
      "Food     Soft Drink\n",
      "Size          Small\n",
      "Price          1.59\n",
      "Name: 92, dtype: object}, 'canes': {'canes1': Type             Drinks\n",
      "Food     Fountain Drink\n",
      "Size      Kids (12 oz.)\n",
      "Price              1.03\n",
      "Name: 5, dtype: object}, 'cfa': {'cfa0': Type                                      Salads\n",
      "Food     Grilled Market Salad w/ Grilled Nuggets\n",
      "Size                                         NaN\n",
      "Price                                       8.52\n",
      "Name: 64, dtype: object, 'cfa1': Type       Beverages\n",
      "Food     Soft Drinks\n",
      "Size           Small\n",
      "Price            1.4\n",
      "Name: 111, dtype: object}, 'deltaco': {'deltaco1': Type     Desserts & Drinks\n",
      "Food            Soft Drink\n",
      "Size                 Small\n",
      "Price                 1.79\n",
      "Name: 90, dtype: object}, 'dominos': {}, 'fiveguys': {}, 'kfc': {'kfc0': Type              Promotions\n",
      "Food     $10 Popcorn Nuggets\n",
      "Size                     NaN\n",
      "Price                   10.4\n",
      "Name: 58, dtype: object, 'kfc1': Type         Drinks\n",
      "Food     Soft Drink\n",
      "Size         Medium\n",
      "Price          1.76\n",
      "Name: 38, dtype: object}, 'littlecaesars': {}, 'mcdonalds': {'mcdonalds0': Type         Limited Time Offers\n",
      "Food     Spicy Chicken McNuggets\n",
      "Size                      10 Pc.\n",
      "Price                       4.52\n",
      "Name: 53, dtype: object, 'mcdonalds1': Type     $1 $2 $3 Menu\n",
      "Food        Soft Drink\n",
      "Size             Small\n",
      "Price             1.04\n",
      "Name: 45, dtype: object}, 'papajohns': {}, 'pizzahut': {}, 'popeyes': {'popeyes1': Type         Drinks\n",
      "Food     Soft Drink\n",
      "Size          Small\n",
      "Price          2.07\n",
      "Name: 39, dtype: object}, 'sonic': {'sonic1': Type     Everyday Deals\n",
      "Food         Soft Drink\n",
      "Size              Small\n",
      "Price              1.24\n",
      "Name: 80, dtype: object}, 'steaknshake': {'steaknshake1': Type      Beverages\n",
      "Food     Soft Drink\n",
      "Size        Regular\n",
      "Price          1.86\n",
      "Name: 81, dtype: object}, 'tacobell': {'tacobell1': Type         Drinks\n",
      "Food     Soft Drink\n",
      "Size         16 oz.\n",
      "Price          1.55\n",
      "Name: 76, dtype: object}, 'wendys': {'wendys0': Type                Right Price Right Size Menu\n",
      "Food     4 Pc. Regular or Spicy Chicken Nuggets\n",
      "Size                                        NaN\n",
      "Price                                      1.03\n",
      "Name: 42, dtype: object, 'wendys1': Type     Right Price Right Size Menu\n",
      "Food                Value Soft Drink\n",
      "Size                             NaN\n",
      "Price                           1.03\n",
      "Name: 44, dtype: object}, 'zaxbys': {'zaxbys1': Type     Beverages\n",
      "Food         Drink\n",
      "Size         Small\n",
      "Price         1.69\n",
      "Name: 83, dtype: object}}\n"
     ]
    }
   ],
   "source": [
    "options = [foods[0], drinks[0]]\n",
    "\n",
    "all_options = {} # dictionary that helps us combine all menu items for the options for EVERY chain\n",
    "\n",
    "\n",
    "for i,chain in enumerate(chain_collection): # loops once over every restaurant dataframe in the chain_collection list \n",
    "\n",
    "    df = chain\n",
    "    #print(chain_collection_list[i])\n",
    "\n",
    "    # removing any 'meal' or 'combo' items (we are going to make own combos!)\n",
    "    df = df[~df['Food'].str.contains('combo', case=False, na=False)]\n",
    "    df = df[~df['Food'].str.contains('meal', case=False, na=False)]\n",
    "    df = df[~df['Type'].str.contains('combo', case=False, na=False)]\n",
    "    df = df[~df['Type'].str.contains('meal', case=False, na=False)]\n",
    "\n",
    "    \n",
    "    o = {} # dictionary that helps us collect the menu items for the options \n",
    "\n",
    "    # finding all the desired food\n",
    "    for j, item in enumerate(options): # loops once through each item in the 'options' list \n",
    "        #print(j)\n",
    "\n",
    "    # using a mask to filter through the dataframe to choose only what the user picked\n",
    "        if df['Food'].str.contains(item, case=False, na=False).any() == True: # making sure that the chain has a menu item for the user's option\n",
    "\n",
    "            #print(item)\n",
    "\n",
    "            slice = df[df['Food'].str.contains(item, case=False, na=False)] # filtering out desired food type using a mask\n",
    "        \n",
    "            min_index = slice['Price'].idxmin()\n",
    "            min_row = df.loc[min_index]\n",
    "            o.update({chain_collection_list[i]+str(j): min_row})  # adding all menu items the chain has for the desired food and adding that slice to the o dictionary \n",
    "\n",
    "            #print(o)\n",
    "            \n",
    "    all_options.update({chain_collection_list[i]:o}) \n",
    "    # each chain has it's own 'o' dictionary, which contains keys of each desired option and pairs of slices containing all menu items per each option\n",
    "\n",
    "print(all_options)\n",
    "\n"
   ]
  },
  {
   "cell_type": "code",
   "execution_count": null,
   "metadata": {},
   "outputs": [],
   "source": []
  },
  {
   "cell_type": "code",
   "execution_count": 360,
   "metadata": {},
   "outputs": [
    {
     "ename": "TypeError",
     "evalue": "unhashable type: 'DataFrame'",
     "output_type": "error",
     "traceback": [
      "\u001b[0;31m---------------------------------------------------------------------------\u001b[0m",
      "\u001b[0;31mTypeError\u001b[0m                                 Traceback (most recent call last)",
      "Cell \u001b[0;32mIn[360], line 1\u001b[0m\n\u001b[0;32m----> 1\u001b[0m \u001b[38;5;28mall\u001b[39m \u001b[38;5;241m=\u001b[39m \u001b[43mtest\u001b[49m\u001b[38;5;241;43m.\u001b[39;49m\u001b[43mall_chain\u001b[49m\u001b[43m(\u001b[49m\u001b[43moptions\u001b[49m\u001b[43m)\u001b[49m\n",
      "File \u001b[0;32m~/hacks8/pricefinder.py:109\u001b[0m, in \u001b[0;36mPriceFinder.all_chain\u001b[0;34m(self, options)\u001b[0m\n\u001b[1;32m    106\u001b[0m \u001b[39m# finding all the desired food\u001b[39;00m\n\u001b[1;32m    107\u001b[0m \u001b[39mfor\u001b[39;00m i, item \u001b[39min\u001b[39;00m \u001b[39menumerate\u001b[39m(options):\n\u001b[1;32m    108\u001b[0m     \u001b[39m# using a mask to filter through the dataframe to choose only what the user picked\u001b[39;00m\n\u001b[0;32m--> 109\u001b[0m     mask \u001b[39m=\u001b[39m df[\u001b[39m'\u001b[39;49m\u001b[39mFood\u001b[39;49m\u001b[39m'\u001b[39;49m]\u001b[39m.\u001b[39;49mstr\u001b[39m.\u001b[39;49mcontains(item, case\u001b[39m=\u001b[39;49m\u001b[39mFalse\u001b[39;49;00m, na\u001b[39m=\u001b[39;49m\u001b[39mFalse\u001b[39;49;00m) \u001b[39m# filtering out desired food type using a mask\u001b[39;00m\n\u001b[1;32m    110\u001b[0m     options[i] \u001b[39m=\u001b[39m df[mask] \u001b[39m# replacing item name in the list with the filtered df\u001b[39;00m\n\u001b[1;32m    112\u001b[0m all_options[\u001b[39mself\u001b[39m\u001b[39m.\u001b[39mchain_collection_list[i]] \u001b[39m=\u001b[39m options\n",
      "File \u001b[0;32m~/opt/miniconda3/lib/python3.9/site-packages/pandas/core/strings/accessor.py:125\u001b[0m, in \u001b[0;36mforbid_nonstring_types.<locals>._forbid_nonstring_types.<locals>.wrapper\u001b[0;34m(self, *args, **kwargs)\u001b[0m\n\u001b[1;32m    120\u001b[0m     msg \u001b[39m=\u001b[39m (\n\u001b[1;32m    121\u001b[0m         \u001b[39mf\u001b[39m\u001b[39m\"\u001b[39m\u001b[39mCannot use .str.\u001b[39m\u001b[39m{\u001b[39;00mfunc_name\u001b[39m}\u001b[39;00m\u001b[39m with values of \u001b[39m\u001b[39m\"\u001b[39m\n\u001b[1;32m    122\u001b[0m         \u001b[39mf\u001b[39m\u001b[39m\"\u001b[39m\u001b[39minferred dtype \u001b[39m\u001b[39m'\u001b[39m\u001b[39m{\u001b[39;00m\u001b[39mself\u001b[39m\u001b[39m.\u001b[39m_inferred_dtype\u001b[39m}\u001b[39;00m\u001b[39m'\u001b[39m\u001b[39m.\u001b[39m\u001b[39m\"\u001b[39m\n\u001b[1;32m    123\u001b[0m     )\n\u001b[1;32m    124\u001b[0m     \u001b[39mraise\u001b[39;00m \u001b[39mTypeError\u001b[39;00m(msg)\n\u001b[0;32m--> 125\u001b[0m \u001b[39mreturn\u001b[39;00m func(\u001b[39mself\u001b[39;49m, \u001b[39m*\u001b[39;49margs, \u001b[39m*\u001b[39;49m\u001b[39m*\u001b[39;49mkwargs)\n",
      "File \u001b[0;32m~/opt/miniconda3/lib/python3.9/site-packages/pandas/core/strings/accessor.py:1214\u001b[0m, in \u001b[0;36mStringMethods.contains\u001b[0;34m(self, pat, case, flags, na, regex)\u001b[0m\n\u001b[1;32m   1089\u001b[0m \u001b[39m@forbid_nonstring_types\u001b[39m([\u001b[39m\"\u001b[39m\u001b[39mbytes\u001b[39m\u001b[39m\"\u001b[39m])\n\u001b[1;32m   1090\u001b[0m \u001b[39mdef\u001b[39;00m \u001b[39mcontains\u001b[39m(\u001b[39mself\u001b[39m, pat, case\u001b[39m=\u001b[39m\u001b[39mTrue\u001b[39;00m, flags\u001b[39m=\u001b[39m\u001b[39m0\u001b[39m, na\u001b[39m=\u001b[39m\u001b[39mNone\u001b[39;00m, regex\u001b[39m=\u001b[39m\u001b[39mTrue\u001b[39;00m):\n\u001b[1;32m   1091\u001b[0m     \u001b[39mr\u001b[39m\u001b[39m\"\"\"\u001b[39;00m\n\u001b[1;32m   1092\u001b[0m \u001b[39m    Test if pattern or regex is contained within a string of a Series or Index.\u001b[39;00m\n\u001b[1;32m   1093\u001b[0m \n\u001b[0;32m   (...)\u001b[0m\n\u001b[1;32m   1212\u001b[0m \u001b[39m    dtype: bool\u001b[39;00m\n\u001b[1;32m   1213\u001b[0m \u001b[39m    \"\"\"\u001b[39;00m\n\u001b[0;32m-> 1214\u001b[0m     \u001b[39mif\u001b[39;00m regex \u001b[39mand\u001b[39;00m re\u001b[39m.\u001b[39;49mcompile(pat)\u001b[39m.\u001b[39mgroups:\n\u001b[1;32m   1215\u001b[0m         warnings\u001b[39m.\u001b[39mwarn(\n\u001b[1;32m   1216\u001b[0m             \u001b[39m\"\u001b[39m\u001b[39mThis pattern is interpreted as a regular expression, and has \u001b[39m\u001b[39m\"\u001b[39m\n\u001b[1;32m   1217\u001b[0m             \u001b[39m\"\u001b[39m\u001b[39mmatch groups. To actually get the groups, use str.extract.\u001b[39m\u001b[39m\"\u001b[39m,\n\u001b[1;32m   1218\u001b[0m             \u001b[39mUserWarning\u001b[39;00m,\n\u001b[1;32m   1219\u001b[0m             stacklevel\u001b[39m=\u001b[39mfind_stack_level(),\n\u001b[1;32m   1220\u001b[0m         )\n\u001b[1;32m   1222\u001b[0m     result \u001b[39m=\u001b[39m \u001b[39mself\u001b[39m\u001b[39m.\u001b[39m_data\u001b[39m.\u001b[39marray\u001b[39m.\u001b[39m_str_contains(pat, case, flags, na, regex)\n",
      "File \u001b[0;32m~/opt/miniconda3/lib/python3.9/re.py:252\u001b[0m, in \u001b[0;36mcompile\u001b[0;34m(pattern, flags)\u001b[0m\n\u001b[1;32m    250\u001b[0m \u001b[39mdef\u001b[39;00m \u001b[39mcompile\u001b[39m(pattern, flags\u001b[39m=\u001b[39m\u001b[39m0\u001b[39m):\n\u001b[1;32m    251\u001b[0m     \u001b[39m\"\u001b[39m\u001b[39mCompile a regular expression pattern, returning a Pattern object.\u001b[39m\u001b[39m\"\u001b[39m\n\u001b[0;32m--> 252\u001b[0m     \u001b[39mreturn\u001b[39;00m _compile(pattern, flags)\n",
      "File \u001b[0;32m~/opt/miniconda3/lib/python3.9/re.py:294\u001b[0m, in \u001b[0;36m_compile\u001b[0;34m(pattern, flags)\u001b[0m\n\u001b[1;32m    292\u001b[0m     flags \u001b[39m=\u001b[39m flags\u001b[39m.\u001b[39mvalue\n\u001b[1;32m    293\u001b[0m \u001b[39mtry\u001b[39;00m:\n\u001b[0;32m--> 294\u001b[0m     \u001b[39mreturn\u001b[39;00m _cache[\u001b[39mtype\u001b[39;49m(pattern), pattern, flags]\n\u001b[1;32m    295\u001b[0m \u001b[39mexcept\u001b[39;00m \u001b[39mKeyError\u001b[39;00m:\n\u001b[1;32m    296\u001b[0m     \u001b[39mpass\u001b[39;00m\n",
      "\u001b[0;31mTypeError\u001b[0m: unhashable type: 'DataFrame'"
     ]
    }
   ],
   "source": [
    "all = test.all_chain(options)"
   ]
  },
  {
   "cell_type": "code",
   "execution_count": null,
   "metadata": {},
   "outputs": [],
   "source": [
    "#desired = variable # the variable is going to be taken from the web form\n",
    "\n",
    "#mask = data['Food'].str.contains(desired, case=False, na=False) # filtering out desired food type using a mask\n",
    "#choice = data[mask].iloc[:-2] "
   ]
  },
  {
   "cell_type": "code",
   "execution_count": null,
   "metadata": {},
   "outputs": [],
   "source": [
    "# Regex \n",
    "\n",
    "### Foods\n",
    "\n",
    "# nugget\n",
    "# burger\n",
    "# chicken sandwhich \n",
    "# fries\n",
    "#### small\n",
    "#### medium\n",
    "#### large\n",
    "# salads\n",
    "# pizza \n",
    "#### small\n",
    "#### medium\n",
    "#### large\n",
    "# tacos \n",
    "# burritos \n",
    "# nachos \n",
    "# breadsticks \n",
    "\n",
    "\n",
    "### Beverages \n",
    "\n",
    "# soft drink\n",
    "#### small\n",
    "#### medium\n",
    "#### large\n",
    "# bottled water \n",
    "# sweet tea\n",
    "# lemonade \n",
    "\n",
    "### Desserts \n",
    "\n",
    "# milkshakes \n",
    "#### small\n",
    "#### medium\n",
    "#### large\n",
    "# cookie \n"
   ]
  }
 ],
 "metadata": {
  "kernelspec": {
   "display_name": "base",
   "language": "python",
   "name": "base"
  },
  "language_info": {
   "codemirror_mode": {
    "name": "ipython",
    "version": 3
   },
   "file_extension": ".py",
   "mimetype": "text/x-python",
   "name": "python",
   "nbconvert_exporter": "python",
   "pygments_lexer": "ipython3",
   "version": "3.9.12"
  },
  "orig_nbformat": 4,
  "vscode": {
   "interpreter": {
    "hash": "31f2aee4e71d21fbe5cf8b01ff0e069b9275f58929596ceb00d14d90e3e16cd6"
   }
  }
 },
 "nbformat": 4,
 "nbformat_minor": 2
}
